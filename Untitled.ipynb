{
 "cells": [
  {
   "cell_type": "code",
   "execution_count": 46,
   "metadata": {},
   "outputs": [],
   "source": [
    "import pandas as pd\n",
    "import torch\n",
    "import torch.nn as nn\n",
    "import torch.nn.functional as F\n",
    "import torch.optim as optim\n",
    "from torch.optim import lr_scheduler\n",
    "import numpy as np\n",
    "import torchvision\n",
    "from torchvision import datasets, models, transforms, utils\n",
    "import torchvision.transforms.functional as TF\n",
    "import matplotlib.pyplot as plt\n",
    "from tqdm import tqdm\n",
    "from PIL import ImageEnhance\n",
    "import cv2\n",
    "from torch.utils.data import Dataset, DataLoader\n",
    "from PIL import Image\n",
    "from util import *"
   ]
  },
  {
   "cell_type": "code",
   "execution_count": 47,
   "metadata": {},
   "outputs": [
    {
     "name": "stderr",
     "output_type": "stream",
     "text": [
      "  0%|          | 10/20400 [00:00<03:40, 92.68it/s]"
     ]
    },
    {
     "name": "stdout",
     "output_type": "stream",
     "text": [
      "converting video to frames\n"
     ]
    },
    {
     "name": "stderr",
     "output_type": "stream",
     "text": [
      "100%|██████████| 20400/20400 [25:11<00:00, 13.50it/s]"
     ]
    },
    {
     "name": "stdout",
     "output_type": "stream",
     "text": [
      "finished\n"
     ]
    },
    {
     "name": "stderr",
     "output_type": "stream",
     "text": [
      "\n"
     ]
    }
   ],
   "source": [
    "vidcap = cv2.VideoCapture(\"data/train.mp4\")\n",
    "def getFrame(sec):\n",
    "    vidcap.set(cv2.CAP_PROP_POS_MSEC,sec*1000)\n",
    "    hasFrames, image = vidcap.read()\n",
    "    if hasFrames:\n",
    "        cv2.imwrite(\"data/frames/train/train_thumb_\"+str(count)+\".jpg\", image)\n",
    "    return hasFrames\n",
    "sec = 0\n",
    "frameRate = 0.05  #it will capture image each 0.05 second\n",
    "count = 1\n",
    "success = getFrame(sec)\n",
    "print(\"converting video to frames\")\n",
    "length = int(vidcap.get(cv2.CAP_PROP_FRAME_COUNT))\n",
    "for i in tqdm(range(length)):\n",
    "    count = count + 1\n",
    "    sec = sec + frameRate\n",
    "    sec = round(sec, 2)\n",
    "    success = getFrame(sec)\n",
    "print(\"finished\")     #generate frames from video"
   ]
  },
  {
   "cell_type": "code",
   "execution_count": 48,
   "metadata": {},
   "outputs": [
    {
     "name": "stderr",
     "output_type": "stream",
     "text": [
      "  0%|          | 8/10798 [00:00<02:33, 70.14it/s]"
     ]
    },
    {
     "name": "stdout",
     "output_type": "stream",
     "text": [
      "converting video to frames\n"
     ]
    },
    {
     "name": "stderr",
     "output_type": "stream",
     "text": [
      "100%|██████████| 10798/10798 [13:36<00:00, 13.22it/s]"
     ]
    },
    {
     "name": "stdout",
     "output_type": "stream",
     "text": [
      "finished\n"
     ]
    },
    {
     "name": "stderr",
     "output_type": "stream",
     "text": [
      "\n"
     ]
    }
   ],
   "source": [
    "vidcap = cv2.VideoCapture(\"data/test.mp4\")\n",
    "def getFrame(sec):\n",
    "    vidcap.set(cv2.CAP_PROP_POS_MSEC,sec*1000)\n",
    "    hasFrames, image = vidcap.read()\n",
    "    if hasFrames:\n",
    "        cv2.imwrite(\"data/frames/test/test_thumb_\"+str(count)+\".jpg\", image)\n",
    "    return hasFrames\n",
    "sec = 0\n",
    "frameRate = 0.05  #it will capture image each 0.05 second\n",
    "count = 1\n",
    "success = getFrame(sec)\n",
    "print(\"converting video to frames\")\n",
    "testLength = int(vidcap.get(cv2.CAP_PROP_FRAME_COUNT))\n",
    "for i in tqdm(range(testLength)):\n",
    "    count = count + 1\n",
    "    sec = sec + frameRate\n",
    "    sec = round(sec, 2)\n",
    "    success = getFrame(sec)\n",
    "print(\"finished\")     #generate frames from video"
   ]
  },
  {
   "cell_type": "code",
   "execution_count": 49,
   "metadata": {},
   "outputs": [
    {
     "name": "stdout",
     "output_type": "stream",
     "text": [
      "length of train label: 20400\n",
      "train data length after ratio split: 15519\n",
      "test data length after ratio split: 10797\n"
     ]
    }
   ],
   "source": [
    "##Train test split\n",
    "ratio = 0.8\n",
    "trainset, i = [], 0\n",
    "with open(\"data/train.txt\", 'r') as file:\n",
    "    content = file.read().splitlines()\n",
    "print(\"length of train label: \" + str(len(content)))\n",
    "while i < len(content)-1:\n",
    "    trainset.append([\"data/frames/train/train_thumb_\"+str(i+1)+\".jpg\",\\\n",
    "              \"data/frames/train/train_thumb_\"+str(i+2)+\".jpg\", float(content[i+1])])\n",
    "    i += 1\n",
    "\n",
    "df = pd.DataFrame(trainset, columns=[\"img1\",\"img2\",\"speed\"])\n",
    "heldout = df.iloc[-1200:]\n",
    "trainval = df.iloc[:-1200]\n",
    "train = trainval.sample(frac=float(ratio),random_state=200)\n",
    "val = trainval.drop(train.index)\n",
    "\n",
    "test_set = []\n",
    "for i in range(testLength - 1):\n",
    "    test_set.append([\"data/frames/test/test_thumb_\"+str(i+1)+\".jpg\",\n",
    "                     \"data/frames/test/test_thumb_\"+str(i+2)+\".jpg\",\n",
    "                   None])\n",
    "    \n",
    "test = pd.DataFrame(test_set, columns=[\"img1\", \"img2\", \"speed\"])\n",
    "print(\"train data length after ratio split: \" + str(len(train)))\n",
    "print(\"test data length after ratio split: \" + str(len(test)))\n",
    "train.to_csv(\"data/train.csv\")\n",
    "test.to_csv(\"data/test.csv\")\n",
    "val.to_csv(\"data/val.csv\")\n",
    "heldout.to_csv(\"data/heldout.csv\")    #Splite ratio as argument"
   ]
  },
  {
   "cell_type": "code",
   "execution_count": 70,
   "metadata": {},
   "outputs": [],
   "source": [
    "def opticalFlowDense(image_current, image_next):\n",
    "    img_front = cv2.cvtColor(image_current, cv2.COLOR_RGB2GRAY)\n",
    "    img_back = cv2.cvtColor(image_next, cv2.COLOR_RGB2GRAY)\n",
    "    flow = cv2.calcOpticalFlowFarneback(img_front, img_back, None, 0.5, 1, 15, 2, 5, 1.3, 0)\n",
    "    return flow"
   ]
  },
  {
   "cell_type": "code",
   "execution_count": 71,
   "metadata": {},
   "outputs": [],
   "source": [
    "class preProcess(Dataset):\n",
    "\n",
    "    def __init__(self, csv_file, augment=True, normalize=None):\n",
    "        self.df = pd.read_csv(csv_file)\n",
    "        self.augment = augment\n",
    "        self.normalize = normalize\n",
    "        self.train = train\n",
    "    def __len__(self):\n",
    "        return len(self.df)\n",
    "\n",
    "    def __getitem__(self, idx):\n",
    "        row = self.df.iloc[idx]\n",
    "        img1 = Image.open(row['img1']).crop((0, 170, 640, 370)).resize((160,50))\n",
    "        img2 = Image.open(row['img2']).crop((0, 170, 640, 370)).resize((160,50))\n",
    "        if self.augment:\n",
    "            brightness = np.random.uniform(0.2, 2)\n",
    "            img1 = ImageEnhance.Brightness(img1).enhance(brightness)\n",
    "            img2 = ImageEnhance.Brightness(img2).enhance(brightness)            \n",
    "\n",
    "            color = np.random.uniform(0.2, 2)\n",
    "            img1 = ImageEnhance.Color(img1).enhance(color)\n",
    "            img2 = ImageEnhance.Color(img2).enhance(color)   \n",
    "            \n",
    "            flip = np.random.uniform(0, 1)\n",
    "            if flip < 0.5:\n",
    "                img1 = img1.transpose(Image.FLIP_LEFT_RIGHT)\n",
    "                img2 = img2.transpose(Image.FLIP_LEFT_RIGHT)\n",
    "            \n",
    "        img1 = np.asarray(img1)\n",
    "        img2 = np.asarray(img2)\n",
    "        flow = opticalFlowDense(img1, img2)\n",
    "        return TF.to_tensor(flow), row['speed']\n"
   ]
  },
  {
   "cell_type": "code",
   "execution_count": 72,
   "metadata": {},
   "outputs": [],
   "source": [
    "class CNN(nn.Module):\n",
    "    def __init__(self):\n",
    "        super(CNN, self).__init__()\n",
    "        \n",
    "        self.input_norm = nn.BatchNorm2d(2)\n",
    "\n",
    "        self.conv1 = nn.Conv2d(2, 3, kernel_size=(5,5), stride=(2,2), padding=2, bias=False)\n",
    "        self.bn1 = nn.BatchNorm2d(3)    \n",
    "\n",
    "        resnet = list(models.resnet18(pretrained=True).children())[:-4] \n",
    "        self.resnet = nn.Sequential(*resnet)\n",
    "\n",
    "        self.conv2 = nn.Conv2d(128, 64, kernel_size=(3,3), stride=(2,2), padding=1, bias=False)\n",
    "        self.bn2 = nn.BatchNorm2d(64)\n",
    "        \n",
    "        self.conv3 = nn.Conv2d(64, 64, kernel_size=(3,3), stride=2, padding=1, bias=False)\n",
    "        self.bn3 = nn.BatchNorm2d(64)\n",
    "        \n",
    "        self.fc1 = nn.Linear(64 * 3, 64, bias=True)\n",
    "        self.bn4 = nn.BatchNorm1d(64)\n",
    "        self.fc2 = nn.Linear(64, 32, bias=True)\n",
    "        self.bn5 = nn.BatchNorm1d(32)\n",
    "        self.fc3 = nn.Linear(32, 1)\n",
    "        self.relu = nn.ELU()\n",
    "        \n",
    "        self.dp1 = nn.Dropout(p=0.5)\n",
    "        self.dp2 = nn.Dropout(p=0.5)\n",
    "        \n",
    "    def forward(self, out):\n",
    "        out = self.input_norm(out)\n",
    "        out = self.relu(self.bn1(self.conv1(out)))\n",
    "        out = self.resnet(out)\n",
    "        out = self.relu(self.bn2(self.conv2(out)))\n",
    "        out = self.relu(self.bn3(self.conv3(out)))\n",
    "        out = out.view(-1, 64 * 3)\n",
    "        out = self.relu(self.dp1(self.bn4(self.fc1(out))))\n",
    "        out = self.relu(self.dp2(self.bn5(self.fc2(out))))\n",
    "        out = self.fc3(out)\n",
    "        return out\n",
    "    \n"
   ]
  },
  {
   "cell_type": "code",
   "execution_count": 73,
   "metadata": {},
   "outputs": [],
   "source": [
    "def train(train_loader, model, optimizer):\n",
    "    model.train()\n",
    "    real = np.asarray([])\n",
    "    predicted = np.asarray([])\n",
    "\n",
    "    for i, data in enumerate(tqdm(train_loader, leave=False)):\n",
    "        img, speed = data\n",
    "        img, speed = img.to(device), speed.float().to(device)\n",
    "\n",
    "        y = model(img)\n",
    "        loss = ((y.view(-1) - speed)**2).mean()\n",
    "        \n",
    "        optimizer.zero_grad()\n",
    "        loss.backward()\n",
    "        optimizer.step()\n",
    "        \n",
    "        real = np.append(real, speed.cpu().numpy())\n",
    "        predicted = np.append(predicted, y.detach().cpu().numpy())\n",
    "    return real, predicted\n",
    "\n",
    "def test(heldout_loader, model):\n",
    "    model.eval()\n",
    "    real = np.asarray([])\n",
    "    predicted = np.asarray([])\n",
    "    for i, data in enumerate(tqdm(heldout_loader, leave=False)):\n",
    "        img, speed = data\n",
    "        img, speed = img.to(device), speed.float().to(device)\n",
    "\n",
    "        y = model(img)\n",
    "\n",
    "        real = np.append(real, speed.cpu().numpy())\n",
    "        predicted = np.append(predicted, y.detach().cpu().numpy())\n",
    "    return real, predicted"
   ]
  },
  {
   "cell_type": "code",
   "execution_count": 74,
   "metadata": {},
   "outputs": [],
   "source": [
    "train_dataset = preProcess(csv_file='data/train.csv', augment=True)\n",
    "val_dataset = preProcess(csv_file='data/val.csv', augment=False)\n",
    "heldout_dataset = preProcess(csv_file='data/heldout.csv', augment=False)\n",
    "test_dataset = preProcess(csv_file='data/test.csv', augment=False)\n",
    "if torch.cuda.is_available():  \n",
    "  deviceName = \"cuda:0\" \n",
    "else:  \n",
    "  deviceName = \"cpu\" \n",
    "device = torch.device(deviceName)\n",
    "model = CNN().to(device)\n",
    "\n",
    "model_parameters = filter(lambda p: p.requires_grad, model.parameters())\n",
    "params = sum([np.prod(p.size()) for p in model_parameters])"
   ]
  },
  {
   "cell_type": "code",
   "execution_count": 75,
   "metadata": {},
   "outputs": [],
   "source": [
    "best_val_loss = float('inf')\n",
    "best_heldout_loss = float('inf')\n",
    "train_loader = DataLoader(train_dataset, batch_size=32, num_workers=8, shuffle=True)\n",
    "val_loader = DataLoader(val_dataset, batch_size=32, num_workers=4, shuffle=False)\n",
    "heldout_loader = DataLoader(heldout_dataset, batch_size=32, num_workers=4, shuffle=False)\n",
    "optimizer = optim.Adam(model.parameters(), lr=1e-4)\n",
    "losses = []"
   ]
  },
  {
   "cell_type": "code",
   "execution_count": 163,
   "metadata": {},
   "outputs": [
    {
     "name": "stderr",
     "output_type": "stream",
     "text": [
      "  0%|          | 0/485 [00:00<?, ?it/s]          "
     ]
    },
    {
     "name": "stdout",
     "output_type": "stream",
     "text": [
      "2 11.93722653642987 \t 5.398306976500009 4.59734885578571 \t 2.7328325225567025 1.9328579838724789\n"
     ]
    },
    {
     "name": "stderr",
     "output_type": "stream",
     "text": [
      "  0%|          | 0/485 [00:00<?, ?it/s]          "
     ]
    },
    {
     "name": "stdout",
     "output_type": "stream",
     "text": [
      "3 11.237208025453658 \t 8.951174285402306 8.152910520887707 \t 2.7610358426491612 2.0672828842112203\n"
     ]
    },
    {
     "name": "stderr",
     "output_type": "stream",
     "text": [
      "  0%|          | 0/485 [00:00<?, ?it/s]          "
     ]
    },
    {
     "name": "stdout",
     "output_type": "stream",
     "text": [
      "4 11.417458237064073 \t 4.944052721319574 4.188025135387742 \t 3.832438288711377 2.9873302083979594\n"
     ]
    },
    {
     "name": "stderr",
     "output_type": "stream",
     "text": [
      "  0%|          | 0/485 [00:00<?, ?it/s]          "
     ]
    },
    {
     "name": "stdout",
     "output_type": "stream",
     "text": [
      "5 11.0877593453064 \t 6.056085037617574 5.181105909164727 \t 2.753614064970798 1.9925069738760204\n"
     ]
    },
    {
     "name": "stderr",
     "output_type": "stream",
     "text": [
      "  0%|          | 0/485 [00:00<?, ?it/s]          "
     ]
    },
    {
     "name": "stdout",
     "output_type": "stream",
     "text": [
      "6 11.103167951229096 \t 6.682078649697156 5.829516420339186 \t 2.1129852153984774 1.4539641615507723\n"
     ]
    },
    {
     "name": "stderr",
     "output_type": "stream",
     "text": [
      "  0%|          | 0/485 [00:00<?, ?it/s]          "
     ]
    },
    {
     "name": "stdout",
     "output_type": "stream",
     "text": [
      "7 10.98865653346467 \t 6.096266558154887 5.285796753688656 \t 2.3838467506268644 1.7785183144265693\n"
     ]
    },
    {
     "name": "stderr",
     "output_type": "stream",
     "text": [
      "  0%|          | 0/485 [00:00<?, ?it/s]          "
     ]
    },
    {
     "name": "stdout",
     "output_type": "stream",
     "text": [
      "8 10.92347395298546 \t 5.252549365160856 4.579327315539095 \t 2.1459662765775454 1.631955850015664\n"
     ]
    },
    {
     "name": "stderr",
     "output_type": "stream",
     "text": [
      "  0%|          | 0/485 [00:00<?, ?it/s]          "
     ]
    },
    {
     "name": "stdout",
     "output_type": "stream",
     "text": [
      "9 11.14296057204252 \t 6.71503022433185 5.940618799022213 \t 1.7347652473767863 1.1153662319033046\n"
     ]
    },
    {
     "name": "stderr",
     "output_type": "stream",
     "text": [
      "                                                 "
     ]
    },
    {
     "name": "stdout",
     "output_type": "stream",
     "text": [
      "10 11.073662053781327 \t 7.364415957605203 6.549783193218085 \t 2.0668468559181883 1.3826781777983215\n",
      "finished\n"
     ]
    },
    {
     "name": "stderr",
     "output_type": "stream",
     "text": [
      "\r"
     ]
    }
   ],
   "source": [
    "for iteration in range(1, 40):\n",
    "    val_loss = []\n",
    "\n",
    "    model.train()\n",
    "    train_real, train_predicted = train(train_loader,model, optimizer)\n",
    "    train_loss = ((train_real - train_predicted)**2).mean()\n",
    "    val_real, val_predicted = test(val_loader, model)\n",
    "    val_loss = ((val_real - val_predicted)**2).mean()\n",
    "    curr_val_min = findMinLoss(val_real, val_predicted)\n",
    "    heldout_real, heldout_predicted = test(heldout_loader, model)\n",
    "    heldout_loss = ((heldout_real - heldout_predicted)**2).mean()\n",
    "    curr_heldout_min = findMinLoss(heldout_real, heldout_predicted)\n",
    "    \n",
    "    checkpoint = {\"model_state_dict\": model.state_dict(),\"iteration\" : iteration,\"loss\" : (curr_val_min, curr_heldout_min),\"optimizer\" : optimizer.state_dict()}\n",
    "\n",
    "    if curr_val_min < best_val_loss:\n",
    "        torch.save(checkpoint, \"min_val.pth\")\n",
    "        best_val_loss = curr_val_min\n",
    "\n",
    "    if curr_heldout_min < best_heldout_loss:\n",
    "        torch.save(checkpoint, \"min_heldout.pth\")\n",
    "        best_heldout_loss = curr_heldout_min\n",
    "        \n",
    "    print(iteration + 1, train_loss, \"\\t\", val_loss, curr_val_min, \"\\t\", heldout_loss, curr_heldout_min)\n",
    "    losses.append((train_loss, val_loss, heldout_loss))\n",
    "\n",
    "print(\"finished\")"
   ]
  },
  {
   "cell_type": "code",
   "execution_count": 164,
   "metadata": {},
   "outputs": [
    {
     "name": "stderr",
     "output_type": "stream",
     "text": [
      "                                                 \r"
     ]
    },
    {
     "data": {
      "image/png": "[encoded data removed]",
      "text/plain": [
       "<Figure size 432x288 with 1 Axes>"
      ]
     },
     "metadata": {
      "needs_background": "light"
     },
     "output_type": "display_data"
    }
   ],
   "source": [
    "#original output\n",
    "testLoader = DataLoader(test_dataset, batch_size=32, num_workers=4, shuffle=False)\n",
    "dummy, testPredict = test(testLoader, model)\n",
    "##30iter, iloc[:1000]\n",
    "plt.figure()\n",
    "plt.plot(testPredict)\n",
    "plt.show()\n"
   ]
  },
  {
   "cell_type": "code",
   "execution_count": 176,
   "metadata": {},
   "outputs": [
    {
     "data": {
      "image/png": "[encoded data removed]",
      "text/plain": [
       "<Figure size 432x288 with 1 Axes>"
      ]
     },
     "metadata": {
      "needs_background": "light"
     },
     "output_type": "display_data"
    }
   ],
   "source": [
    "#noise reduction\n",
    "res2 = testPredict\n",
    "for i in range(len(res2) - 2):\n",
    "    res2[i+2] = (res2[i] + res2[i+1] + res2[i+2])/3\n",
    "    if res2[i] < 0:\n",
    "        res2[i] = 0\n",
    "\n",
    "plt.figure()\n",
    "plt.plot(res2)\n",
    "plt.show()"
   ]
  },
  {
   "cell_type": "code",
   "execution_count": 177,
   "metadata": {},
   "outputs": [],
   "source": [
    "np.savetxt(\"test.txt\", res2)"
   ]
  }
 ],
 "metadata": {
  "kernelspec": {
   "display_name": "Python 3",
   "language": "python",
   "name": "python3"
  },
  "language_info": {
   "codemirror_mode": {
    "name": "ipython",
    "version": 3
   },
   "file_extension": ".py",
   "mimetype": "text/x-python",
   "name": "python",
   "nbconvert_exporter": "python",
   "pygments_lexer": "ipython3",
   "version": "3.8.3"
  }
 },
 "nbformat": 4,
 "nbformat_minor": 2
}
